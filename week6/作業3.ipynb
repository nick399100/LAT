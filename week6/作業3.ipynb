{
 "cells": [
  {
   "cell_type": "code",
   "execution_count": 69,
   "id": "98db756c",
   "metadata": {},
   "outputs": [],
   "source": [
    "import openai\n",
    "import pandas as pd"
   ]
  },
  {
   "cell_type": "code",
   "execution_count": 70,
   "id": "3adce0f1",
   "metadata": {},
   "outputs": [],
   "source": [
    "keyfile = open(\"key.txt\", \"r\")\n",
    "key = keyfile.readline()\n",
    "openai.api_key = key"
   ]
  },
  {
   "cell_type": "code",
   "execution_count": 90,
   "id": "efcc98b8",
   "metadata": {},
   "outputs": [],
   "source": [
    "# 建立一個空的list，用於儲存所有txt檔案的data\n",
    "all_data = []\n",
    "\n",
    "# 逐一讀取每個txt檔案\n",
    "for i in range(1,4):\n",
    "    filename = f\"0{i}.txt\"  # 假設檔案名稱為 01.txt、02.txt、03.txt\n",
    "    with open(filename, 'r', encoding='cp1252') as fh:\n",
    "        tmp = fh.read()\n",
    "        itemlist = tmp.split(',')\n",
    "    itemlist_str = str(itemlist)\n",
    "    # 將每個txt檔案的data加入all_data中\n",
    "    all_data.append([itemlist_str[0:3200], itemlist_str[3201:6400],\n",
    "                     itemlist_str[6401:9600], itemlist_str[9601:12800], \n",
    "                     itemlist_str[12801:16000]])\n",
    "\n",
    "# 將所有txt檔案的data疊加在一起\n",
    "data = [d for sublist in all_data for d in sublist]\n"
   ]
  },
  {
   "cell_type": "code",
   "execution_count": null,
   "id": "eee7baa8",
   "metadata": {},
   "outputs": [],
   "source": []
  },
  {
   "cell_type": "code",
   "execution_count": 91,
   "id": "0c6fcb13",
   "metadata": {},
   "outputs": [],
   "source": [
    "data = [itemlist_str[0:3200], itemlist_str[3201:6400],\n",
    "                     itemlist_str[6401:9600], itemlist_str[9601:12800], \n",
    "                     itemlist_str[12801:16000],itemlist_str[16001:19200],itemlist_str[19201:22400],itemlist_str[22401:25600]]"
   ]
  },
  {
   "cell_type": "code",
   "execution_count": 92,
   "id": "bb7c5fca",
   "metadata": {},
   "outputs": [],
   "source": [
    "def chatgptfn(sub_list):\n",
    "    result = ''\n",
    "    response = openai.ChatCompletion.create(\n",
    "        model=\"gpt-3.5-turbo\",\n",
    "        messages=[\n",
    "            {\"role\": \"system\", \"content\": \"You are an assistant\"},\n",
    "            {\"role\": \"user\", \"content\": f\"{sub_list} :give me a summary\"}\n",
    "        ]\n",
    "    )\n",
    "    for choice in response.choices:\n",
    "        result += choice.message.content\n",
    "    return result"
   ]
  },
  {
   "cell_type": "code",
   "execution_count": 93,
   "id": "56642f40",
   "metadata": {},
   "outputs": [
    {
     "data": {
      "text/plain": [
       "\"ation: State Of The Art and Perspectives. \\\\n[11] Z. Feng', ' V. A. Gonzalez', ' R. Amor', ' R. Lovreglio', ' and G. Cabrera-Guerrero', '¡§Immersivevirtualrealityseriousgames forevacuationtrainingandresearch:Asystematicliterature review', '¡¨ Computers & Education', ' vol. 127', ' pp. 252¡V266', ' Dec.2018', 'doi:10.1016/j.compedu.2018.09.002. \\\\n[12] R. Lovreglio', ' X. Duan', ' A. Rahouti', ' R. Phipps', ' and D. Nilsson', '¡§Comparingtheeffectivenessoffireextinguisher virtual reality and video training', '¡¨ Virtual Reality', ' May 2020', 'doi:10.1007/s10055-020-00447-5. \\\\n[13] M.Cha', 'S.Han', 'J.Lee', 'andB.Choi', '¡§Avirtualrealitybased firetrainingsimulatorintegratedwithfiredynamicsdata', '¡¨ Fire Safety Journal', ' vol. 50', ' pp. 12¡V24', ' May 2012', ' doi: 10.1016/j.firesaf.2012.01.004. \\\\n[14] Z. Xu', ' X. Z. Lu', ' H. Guan', ' C. Chen', ' and A. Z. Ren', ' ¡§A virtual reality based fire training simulator with smoke hazard assessment capacity', '¡¨ Advances in Engineering Software', ' vol. 68', ' pp. 1¡V8', ' Feb. 2014', ' doi: 10.1016/j.advengsoft.2013.10.004. \\\\n[15] S. L. Farra', ' E. T. Miller', ' and E. Hodgson', ' ¡§Virtual reality disastertraining:Translationtopractice', '¡¨Nurse Education in Practice', ' vol. 15', ' no. 1', ' pp. 53¡V57', ' Jan. 2015', ' doi: 10.1016/j.nepr.2013.08.017. \\\\n[16] M. Saghafian', ' K. Laumann', ' R. S. Akhtar', ' and M. R. Skogstad', ' ¡§The Evaluation of Virtual Reality Fire ExtinguisherTraining', '¡¨Front Psychol', 'vol.11', 'Nov.2020', ' doi:10.3389/fpsyg.2020.593466. \\\\n[17] ¡§Fire Safety Lab VR on Steam.¡¨ https://store.steampowered.com/app/1250170/Fire_Safety _Lab_VR/(accessedJan.31', '2021). \\\\n[18] F.-H. Tsai', ' ¡§An Investigation of Gender Differences in a Game-based Learning Environment with Different Game Modes', '¡¨ EURASIA J MATH SCI T', ' vol. 13', ' no. 7', ' Jun. 2017', 'doi:10.12973/eurasia.2017.00713a. \\\\n[19] H. Lukosch', ' S. Kurapati', ' D. Groen', ' and A. Verbraeck', ' ¡§GenderandCulturalDifferencesinGame-BasedLearning Experiences', '¡¨ Electronic Journal of e-Learning', ' vol. 15', ' no.4', 'pp.310¡V319', '2017. \\\\n\\\\n\\\\n']\""
      ]
     },
     "execution_count": 93,
     "metadata": {},
     "output_type": "execute_result"
    }
   ],
   "source": [
    "data[7]"
   ]
  },
  {
   "cell_type": "code",
   "execution_count": 94,
   "id": "8cc8e09c",
   "metadata": {
    "scrolled": true
   },
   "outputs": [],
   "source": [
    "data[0] = chatgptfn(data[0])"
   ]
  },
  {
   "cell_type": "code",
   "execution_count": 45,
   "id": "86e96e47",
   "metadata": {},
   "outputs": [
    {
     "data": {
      "text/plain": [
       "'This article is a meta-analysis examining the effectiveness of different types of educational games and simulations in improving student cognition, affect, and learning outcomes. The authors compare Serious Educational Games (SEG), Educational Simulations (ES), and Serious Games (SG) and find that all types of games result in higher cognitive gains and increased positive affect towards learning compared to traditional instruction. However, they also find differences between the different types of games. The article emphasizes the importance of examining the factors that mediate the successes and limitations of different technology formats in education.'"
      ]
     },
     "execution_count": 45,
     "metadata": {},
     "output_type": "execute_result"
    }
   ],
   "source": [
    "data[0]"
   ]
  },
  {
   "cell_type": "code",
   "execution_count": 95,
   "id": "e3c0e641",
   "metadata": {},
   "outputs": [
    {
     "ename": "RateLimitError",
     "evalue": "Rate limit reached for default-gpt-3.5-turbo in organization org-5gjBN8XKwSJtxghiCcXoqSuD on requests per min. Limit: 3 / min. Please try again in 20s. Contact support@openai.com if you continue to have issues. Please add a payment method to your account to increase your rate limit. Visit https://platform.openai.com/account/billing to add a payment method.",
     "output_type": "error",
     "traceback": [
      "\u001b[1;31m---------------------------------------------------------------------------\u001b[0m",
      "\u001b[1;31mRateLimitError\u001b[0m                            Traceback (most recent call last)",
      "\u001b[1;32m~\\AppData\\Local\\Temp\\ipykernel_2588\\983226431.py\u001b[0m in \u001b[0;36m<module>\u001b[1;34m\u001b[0m\n\u001b[0;32m      1\u001b[0m \u001b[1;32mfor\u001b[0m \u001b[0mi\u001b[0m \u001b[1;32min\u001b[0m \u001b[0mrange\u001b[0m\u001b[1;33m(\u001b[0m\u001b[1;36m0\u001b[0m\u001b[1;33m,\u001b[0m\u001b[1;36m7\u001b[0m\u001b[1;33m)\u001b[0m\u001b[1;33m:\u001b[0m\u001b[1;33m\u001b[0m\u001b[1;33m\u001b[0m\u001b[0m\n\u001b[1;32m----> 2\u001b[1;33m     \u001b[0mdata\u001b[0m\u001b[1;33m[\u001b[0m\u001b[0mi\u001b[0m\u001b[1;33m]\u001b[0m \u001b[1;33m=\u001b[0m \u001b[0mchatgptfn\u001b[0m\u001b[1;33m(\u001b[0m\u001b[0mdata\u001b[0m\u001b[1;33m[\u001b[0m\u001b[0mi\u001b[0m\u001b[1;33m]\u001b[0m\u001b[1;33m)\u001b[0m\u001b[1;33m\u001b[0m\u001b[1;33m\u001b[0m\u001b[0m\n\u001b[0m",
      "\u001b[1;32m~\\AppData\\Local\\Temp\\ipykernel_2588\\1488743949.py\u001b[0m in \u001b[0;36mchatgptfn\u001b[1;34m(sub_list)\u001b[0m\n\u001b[0;32m      1\u001b[0m \u001b[1;32mdef\u001b[0m \u001b[0mchatgptfn\u001b[0m\u001b[1;33m(\u001b[0m\u001b[0msub_list\u001b[0m\u001b[1;33m)\u001b[0m\u001b[1;33m:\u001b[0m\u001b[1;33m\u001b[0m\u001b[1;33m\u001b[0m\u001b[0m\n\u001b[0;32m      2\u001b[0m     \u001b[0mresult\u001b[0m \u001b[1;33m=\u001b[0m \u001b[1;34m''\u001b[0m\u001b[1;33m\u001b[0m\u001b[1;33m\u001b[0m\u001b[0m\n\u001b[1;32m----> 3\u001b[1;33m     response = openai.ChatCompletion.create(\n\u001b[0m\u001b[0;32m      4\u001b[0m         \u001b[0mmodel\u001b[0m\u001b[1;33m=\u001b[0m\u001b[1;34m\"gpt-3.5-turbo\"\u001b[0m\u001b[1;33m,\u001b[0m\u001b[1;33m\u001b[0m\u001b[1;33m\u001b[0m\u001b[0m\n\u001b[0;32m      5\u001b[0m         messages=[\n",
      "\u001b[1;32m~\\anaconda3\\lib\\site-packages\\openai\\api_resources\\chat_completion.py\u001b[0m in \u001b[0;36mcreate\u001b[1;34m(cls, *args, **kwargs)\u001b[0m\n\u001b[0;32m     23\u001b[0m         \u001b[1;32mwhile\u001b[0m \u001b[1;32mTrue\u001b[0m\u001b[1;33m:\u001b[0m\u001b[1;33m\u001b[0m\u001b[1;33m\u001b[0m\u001b[0m\n\u001b[0;32m     24\u001b[0m             \u001b[1;32mtry\u001b[0m\u001b[1;33m:\u001b[0m\u001b[1;33m\u001b[0m\u001b[1;33m\u001b[0m\u001b[0m\n\u001b[1;32m---> 25\u001b[1;33m                 \u001b[1;32mreturn\u001b[0m \u001b[0msuper\u001b[0m\u001b[1;33m(\u001b[0m\u001b[1;33m)\u001b[0m\u001b[1;33m.\u001b[0m\u001b[0mcreate\u001b[0m\u001b[1;33m(\u001b[0m\u001b[1;33m*\u001b[0m\u001b[0margs\u001b[0m\u001b[1;33m,\u001b[0m \u001b[1;33m**\u001b[0m\u001b[0mkwargs\u001b[0m\u001b[1;33m)\u001b[0m\u001b[1;33m\u001b[0m\u001b[1;33m\u001b[0m\u001b[0m\n\u001b[0m\u001b[0;32m     26\u001b[0m             \u001b[1;32mexcept\u001b[0m \u001b[0mTryAgain\u001b[0m \u001b[1;32mas\u001b[0m \u001b[0me\u001b[0m\u001b[1;33m:\u001b[0m\u001b[1;33m\u001b[0m\u001b[1;33m\u001b[0m\u001b[0m\n\u001b[0;32m     27\u001b[0m                 \u001b[1;32mif\u001b[0m \u001b[0mtimeout\u001b[0m \u001b[1;32mis\u001b[0m \u001b[1;32mnot\u001b[0m \u001b[1;32mNone\u001b[0m \u001b[1;32mand\u001b[0m \u001b[0mtime\u001b[0m\u001b[1;33m.\u001b[0m\u001b[0mtime\u001b[0m\u001b[1;33m(\u001b[0m\u001b[1;33m)\u001b[0m \u001b[1;33m>\u001b[0m \u001b[0mstart\u001b[0m \u001b[1;33m+\u001b[0m \u001b[0mtimeout\u001b[0m\u001b[1;33m:\u001b[0m\u001b[1;33m\u001b[0m\u001b[1;33m\u001b[0m\u001b[0m\n",
      "\u001b[1;32m~\\anaconda3\\lib\\site-packages\\openai\\api_resources\\abstract\\engine_api_resource.py\u001b[0m in \u001b[0;36mcreate\u001b[1;34m(cls, api_key, api_base, api_type, request_id, api_version, organization, **params)\u001b[0m\n\u001b[0;32m    151\u001b[0m         )\n\u001b[0;32m    152\u001b[0m \u001b[1;33m\u001b[0m\u001b[0m\n\u001b[1;32m--> 153\u001b[1;33m         response, _, api_key = requestor.request(\n\u001b[0m\u001b[0;32m    154\u001b[0m             \u001b[1;34m\"post\"\u001b[0m\u001b[1;33m,\u001b[0m\u001b[1;33m\u001b[0m\u001b[1;33m\u001b[0m\u001b[0m\n\u001b[0;32m    155\u001b[0m             \u001b[0murl\u001b[0m\u001b[1;33m,\u001b[0m\u001b[1;33m\u001b[0m\u001b[1;33m\u001b[0m\u001b[0m\n",
      "\u001b[1;32m~\\anaconda3\\lib\\site-packages\\openai\\api_requestor.py\u001b[0m in \u001b[0;36mrequest\u001b[1;34m(self, method, url, params, headers, files, stream, request_id, request_timeout)\u001b[0m\n\u001b[0;32m    224\u001b[0m             \u001b[0mrequest_timeout\u001b[0m\u001b[1;33m=\u001b[0m\u001b[0mrequest_timeout\u001b[0m\u001b[1;33m,\u001b[0m\u001b[1;33m\u001b[0m\u001b[1;33m\u001b[0m\u001b[0m\n\u001b[0;32m    225\u001b[0m         )\n\u001b[1;32m--> 226\u001b[1;33m         \u001b[0mresp\u001b[0m\u001b[1;33m,\u001b[0m \u001b[0mgot_stream\u001b[0m \u001b[1;33m=\u001b[0m \u001b[0mself\u001b[0m\u001b[1;33m.\u001b[0m\u001b[0m_interpret_response\u001b[0m\u001b[1;33m(\u001b[0m\u001b[0mresult\u001b[0m\u001b[1;33m,\u001b[0m \u001b[0mstream\u001b[0m\u001b[1;33m)\u001b[0m\u001b[1;33m\u001b[0m\u001b[1;33m\u001b[0m\u001b[0m\n\u001b[0m\u001b[0;32m    227\u001b[0m         \u001b[1;32mreturn\u001b[0m \u001b[0mresp\u001b[0m\u001b[1;33m,\u001b[0m \u001b[0mgot_stream\u001b[0m\u001b[1;33m,\u001b[0m \u001b[0mself\u001b[0m\u001b[1;33m.\u001b[0m\u001b[0mapi_key\u001b[0m\u001b[1;33m\u001b[0m\u001b[1;33m\u001b[0m\u001b[0m\n\u001b[0;32m    228\u001b[0m \u001b[1;33m\u001b[0m\u001b[0m\n",
      "\u001b[1;32m~\\anaconda3\\lib\\site-packages\\openai\\api_requestor.py\u001b[0m in \u001b[0;36m_interpret_response\u001b[1;34m(self, result, stream)\u001b[0m\n\u001b[0;32m    617\u001b[0m         \u001b[1;32melse\u001b[0m\u001b[1;33m:\u001b[0m\u001b[1;33m\u001b[0m\u001b[1;33m\u001b[0m\u001b[0m\n\u001b[0;32m    618\u001b[0m             return (\n\u001b[1;32m--> 619\u001b[1;33m                 self._interpret_response_line(\n\u001b[0m\u001b[0;32m    620\u001b[0m                     \u001b[0mresult\u001b[0m\u001b[1;33m.\u001b[0m\u001b[0mcontent\u001b[0m\u001b[1;33m.\u001b[0m\u001b[0mdecode\u001b[0m\u001b[1;33m(\u001b[0m\u001b[1;34m\"utf-8\"\u001b[0m\u001b[1;33m)\u001b[0m\u001b[1;33m,\u001b[0m\u001b[1;33m\u001b[0m\u001b[1;33m\u001b[0m\u001b[0m\n\u001b[0;32m    621\u001b[0m                     \u001b[0mresult\u001b[0m\u001b[1;33m.\u001b[0m\u001b[0mstatus_code\u001b[0m\u001b[1;33m,\u001b[0m\u001b[1;33m\u001b[0m\u001b[1;33m\u001b[0m\u001b[0m\n",
      "\u001b[1;32m~\\anaconda3\\lib\\site-packages\\openai\\api_requestor.py\u001b[0m in \u001b[0;36m_interpret_response_line\u001b[1;34m(self, rbody, rcode, rheaders, stream)\u001b[0m\n\u001b[0;32m    680\u001b[0m         \u001b[0mstream_error\u001b[0m \u001b[1;33m=\u001b[0m \u001b[0mstream\u001b[0m \u001b[1;32mand\u001b[0m \u001b[1;34m\"error\"\u001b[0m \u001b[1;32min\u001b[0m \u001b[0mresp\u001b[0m\u001b[1;33m.\u001b[0m\u001b[0mdata\u001b[0m\u001b[1;33m\u001b[0m\u001b[1;33m\u001b[0m\u001b[0m\n\u001b[0;32m    681\u001b[0m         \u001b[1;32mif\u001b[0m \u001b[0mstream_error\u001b[0m \u001b[1;32mor\u001b[0m \u001b[1;32mnot\u001b[0m \u001b[1;36m200\u001b[0m \u001b[1;33m<=\u001b[0m \u001b[0mrcode\u001b[0m \u001b[1;33m<\u001b[0m \u001b[1;36m300\u001b[0m\u001b[1;33m:\u001b[0m\u001b[1;33m\u001b[0m\u001b[1;33m\u001b[0m\u001b[0m\n\u001b[1;32m--> 682\u001b[1;33m             raise self.handle_error_response(\n\u001b[0m\u001b[0;32m    683\u001b[0m                 \u001b[0mrbody\u001b[0m\u001b[1;33m,\u001b[0m \u001b[0mrcode\u001b[0m\u001b[1;33m,\u001b[0m \u001b[0mresp\u001b[0m\u001b[1;33m.\u001b[0m\u001b[0mdata\u001b[0m\u001b[1;33m,\u001b[0m \u001b[0mrheaders\u001b[0m\u001b[1;33m,\u001b[0m \u001b[0mstream_error\u001b[0m\u001b[1;33m=\u001b[0m\u001b[0mstream_error\u001b[0m\u001b[1;33m\u001b[0m\u001b[1;33m\u001b[0m\u001b[0m\n\u001b[0;32m    684\u001b[0m             )\n",
      "\u001b[1;31mRateLimitError\u001b[0m: Rate limit reached for default-gpt-3.5-turbo in organization org-5gjBN8XKwSJtxghiCcXoqSuD on requests per min. Limit: 3 / min. Please try again in 20s. Contact support@openai.com if you continue to have issues. Please add a payment method to your account to increase your rate limit. Visit https://platform.openai.com/account/billing to add a payment method."
     ]
    }
   ],
   "source": [
    "for i in range(0,7):\n",
    "    data[i] = chatgptfn(data[i])"
   ]
  },
  {
   "cell_type": "code",
   "execution_count": 96,
   "id": "752c9f77",
   "metadata": {},
   "outputs": [
    {
     "data": {
      "text/plain": [
       "['The paper discusses the use of game-based learning in virtual reality to enhance fire safety training in Thailand. The authors developed five learning lessons and three playing stages using virtual technology to create a safe and realistic environment for learners. Evaluation of the game-based training demonstrated an increase in fire safety knowledge and high levels of user satisfaction. This alternative training method provides an effective solution to overcome challenges associated with physical training events.',\n",
       " 'This paper discusses the use of game-based learning and virtual reality technology to create a fire safety workshop that includes tutorials, training, and virtual practice. The background of game-based learning and virtual reality technology is explored, followed by the research methodology used to conduct the study. The paper goes on to detail the experiments conducted and the results obtained. Finally, the conclusion of the study is discussed. Game-based learning is beneficial for learning, as it motivates, engages, adapts, and allows for graceful failure, while virtual reality technology allows users to interact with a 3D computer-generated environment. Both technologies are utilized to create a comprehensive fire safety workshop that is engaging and effective for learners.',\n",
       " 'This passage discusses the use of virtual reality for fire safety training. It explores the benefits of using VR, such as a more realistic and interactive environment that allows for instant knowledge assessment and feedback. Additionally, VR training increases the effectiveness of the trainee and is a cost-effective solution. The passage also discusses the issue of motion sickness in VR and how a teleportation technique can alleviate this side effect. Overall, virtual reality training is seen as a valuable tool for teaching dangerous subjects like fire safety in a safe and engaging way.',\n",
       " 'The paper proposes a system that combines educating knowledge of fire, extinguishers, and their operating procedures, emergency contact numbers, and first aid. The system offers two systems combined except practicing with a real extinguisher. The methodology includes fire safety contents, game design and game-based learning, and system development. The learning stage comprises 4 tutorials, the play stage is a simulated situation, and the test stage is a fire safety knowledge assessment. The GBL framework explicitly defines the learning objectives of each tutorial. The paper also presents a comparison of training features with traditional and available products in the market.',\n",
       " \"tandinghowtodoafirst-aid procedurerespectively. \\\\n\\\\nTABLEII.FIRESANDEXTINGUISHERSCATEGORIES \\\\n\\\\nFig. 2shows agame-leveldesign. There are2areas: VR tutorial area and learning area. Fig. 2(a) is the preparation stagethathelpsplayerstounderstandhowtouseaVRdevice and navigate insideavirtualenvironment.Players learn how toteleportfromoneplacetoanotherfornavigatingaroundthe virtualenvironmentaswellasusingcontrollerdevicetolearn askillofhowtopickorreleaseanobjectwhichisrequiredin thelearningarea.Fig.2(b)iswherelearningandplaying are taken place; it consists of 5 positions that are randomly simulated fire incidents. Complete all tutorials and plays require approximately 20 to 25 minutes depends on each player.Learningstagesarenotlimitedbytime(playerscanre-tryasneeded)whiletheteststagetimeislimited(playersmust passthechallengewithinthetimelimit). \\\\nNotethatthevirtualenvironmentinthisgameisdesigned as amedium-size indoor areawith simpledecoration to give playersapleasantfeelingwhileplaying.Teleportinginasmall area reduces the conflict between immediate movement in a virtualspaceandhumansensorytominimizemotionsickness. \\\\nC. System Design and Development \\\\nFig.3describesagamesystemandflowchart.Wedevelop a system using UnrealEngine 4 (UE4) and implement it on the Oculus Quest (VR device) platform. Game uses a first-personperspectivewhich enhancesplayers¡¦viewastheyare inthemiddleofthesituation. \\\\nInputandoutputofasystemareOculusQuestdevice¡Vit isastandalonedevicewhichdoesnotrequireconnectingtoa computer', ' therefore', ' the player has a 6 degree of freedom whileplaying.Theinputisasetofsensordevicesthatreceive actions from players; these include pressing buttons', ' motion sensors.The output is delivered throughhead mount display (HMD)whichoffer110degreesfieldofview. \\\\nFor an immersive visualization', ' we implement the high polygon assets while maintaining the high framerate. Two important animation assets in our game are fire and extinguisher which are usedinteractively when players learn howtousetheextinguisherprocedure. \\\\n\\\\n(a) IV. EXPERIMENTANDRESULT \\\\n\\\\nA. Experiment \\\\nWe design the experiment on volunteers who have not trained in fire safety. There are 11 volunteers (who never attendanofficialfiretrainingcourse)ofanaverageof21years of age; the gender is equally balanced between male and female. Volunteers are split into two groups for evaluating purposes: our game-based training and traditional training method. The number of volunteers in each group is 6 and5 personsrespectively.Notethat', 'therearemanyfactorssuchas genderorculturaldifferencesthatprobablyaffectthelearning outcome when adopting GBL as a learning medium. The studiesin[18]', '[19]showthatmalesandfemalesperformthe comparable result', ' however', ' males tend to slightly better handle new learning tools or anxiety than females. \\\\n\\\\n\\\\n(b) \\\\nFig. 3. Game system overview: (a) development software and device (b) game flow chart show the gameplay sequences where the pre/post-test are performedoutsidethesystem. \\\\nTABLEIII.KNOWLEDGEEVALUATIONRESULT \\\\nTABLEIV.USERS¡¦EXPERIENCEEVALUATIONRESULT \\\\nKnowledge Test (Total 10 Questions)  Average Score  \\\\nPre-Test  Post-Test  \\\\n(11 Persons)  Article B\",\n",
       " 'sed (5 Persons)  VR Based (6 Persons)  \\\\nEmergencycontact (2questions)  22.73%  30.00%  75.00%  \\\\nClassesoffires (3questions)  45.45%  60.00%  100.00%  \\\\nTypesofextinguisher (2questions)  18.18%  40.00%  66.67%  \\\\nOperatingextinguisher (1questions)  45.45%  60.00%  83.33%  \\\\nFirstAid(2questions)  59.09%  70.00%  91.67%  \\\\nAverage Score (10 questions)  38.20%  52.00%  85.00%  \\\\n\\\\n\\\\nTherefore\\', \\' we are safe to assume that the gender difference doesnotaffectbythisexperiment. \\\\nIn the first group\\', \\' all volunteers are required to complete thegameandperformedthetest.Playinggameisindependent andeachplayerhasnointerferencefrom/toothers.Similarly\\', \\' the second group learns the identical contents through provided articles. Completing the game takes approximately 20¡V25minutes\\', \"dependsoneachplayer\\'sperformance. \\\\nNote that each volunteer performs a knowledge pre-test which covers all lessons\", \\' details refer to section III. Then\\', \\' training with our proposed game or an article-based. Lastly\\', \\' performing a knowledge post-test and user experience questions.Theperspectivequestionsandresultsaredisplayed inTablesIIIandIV. \\\\nB. Result \\\\nFire safety knowledge evaluates how much knowledge players gain while user¡¦ experience evaluates how much playerslikeagame. Fig.4captures several actions fromour game.Thefollowingsummarizestheresults. \\\\nUsers¡¦ Experience Opinion (Total 7 Questions)  Ave Score (5 points)  Description  \\\\n1)Gameartistic  4.83  Higherisbetter  \\\\n2)Playerskillstocompletethegame  3.17  Lowerisbetter  \\\\n3)Contentnarrativeandsoundquality  4.83  Higherisbetter  \\\\n4)DifficultylevelofVRusageingame  3.17  Lowerisbetter  \\\\n5)Gameplayprocedure(difficultoreasy tounderstand)  4.50  Higheriseasier  \\\\n6)Recommendationgametoothers  4.67  Higherisbetter  \\\\n7)Feelingmotionsicknesswhileplaying  2.60  Lowerisbetter  \\\\n\\\\n1. \\\\nKnowledge ¡Vthe average score ofpre-test andpost-test of an article-based\\', \\' and our game-based are 3.82/10\\', \\'5.2/10\\', \\'and8.5/10respectively. \\\\n\\\\n2. \\\\nUsers¡¦experiences ¡Vmost ofthe players\\', \\' over 90%\\', \\' like the gameplay\\', \\' artistic and recommend this traininggametoothers.Notethatthemotionsickness score is approximately 50% while the recommendation game to others score is approximatelyover90%. \\\\n\\\\n\\\\nDetails ofknowledge evaluation based on 5 contents are explained in Table III. The comparison score between pre/post-testofeachlesson iscalculatedby the total number of testers who answer correctly. Details of users¡¦experience evaluationareexplainedinTableIV. \\\\n\\\\n\\\\n(a) \\\\n(b) (c) \\\\n\\\\n(d) \\\\n(e) (f) \\\\n\\\\n\\\\n\\\\nFig.4.Gameinactions:(a)-(b)preparationstageteacheshowtouseVRdeviceandnavigatingin thegame\\', \\'(c)-(e)matchingclassesoffirewith typesof extinguishers\\', \\'and(f)practicingextinguishersfollowingpull\\', \\'aim\\', \\'squeeze\\', \\'andsweepprocedure. \\\\nV. CONCLUSIONANDFUTUREWORK [9] K. W. Lau and P. Y. Lee\\', \\' ¡§The use of virtual reality for \\\\nWe proposed fire safety training game-based learning using VR technology; it covered all key components from emergency contact numbers\\', \\' classes of fire\\', \\' types of extinguishers and its operating procedures as well as afirst-aidprocedure.Themaincontributioniswedemonstratehow difficult anddangerous ta',\n",
       " \"ks such as fire safety training can bedone foralltypesofaudiencesbyemploying the existing technologiessuchasVRandgame-basedlearningstrategy.It showed that both the knowledge and experience from our systemare high.The knowledge score is increasedby122% and 63% compare to the non-training and the traditional trainingrespectively', 'andover90%ofusersrecommendedit tootherswhilethemotionsicknesslevelismoderate. \\\\nThe game provided immersive content', ' rich actions', ' and instancepracticing.Usersinstantlygotfeedbackwhichhelps them analyze and improve their knowledge. In addition', ' it offereddangerous-freetrainingbecausethesystemsimulates firesituationsinavirtualenvironment. \\\\nHowever', ' there are several possibilities to improve our system. For examples', ' the in-game pre/post-test feature or multiplayer training networks which drive game-based learning mechanism; play with a team to collaborative or competitiveand to completethe gameobjective.Inaddition', ' fireevacuationtrainingalsoispossiblyextendedtoourgame. \\\\nREFERENCES \\\\n\\\\n[1] ¡§Fire events in Thailand (1989 -2018)', '¡¨ Jan. 29', ' 2021. http://social.nesdc.go.th/SocialStat/StatReport_FullScreen. aspx?reportid=3673&template=2R1C&yeartype=M&subc atid=48(accessedJan.29', '2021). \\\\n[2] J. L. Plass', ' B. D. Homer', ' andC. K. Kinzer', ' ¡§Foundations ofGame-BasedLearning', '¡¨ Educational Psychologist', 'vol. 50', ' no. 4', ' pp. 258¡V283', ' Oct. 2015', ' doi: 10.1080/00461520.2015.1122533. \\\\n[3] I.Granic', 'A.Lobel', 'andR.C.M.E.Engels', '¡§Thebenefits ofplaying video games.', '¡¨American Psychologist', 'vol.69', ' no.1', 'pp.66¡V78', 'Jan.2014', 'doi:10.1037/a0034857. \\\\n[4] U.A.Chattha', 'U.I.Janjua', 'F.Anwar', 'T.M.Madni', 'M.F. Cheema', ' and S. I. Janjua', ' ¡§Motion Sickness in Virtual Reality:AnEmpiricalEvaluation', '¡¨IEEE Access', 'vol.8', 'pp. 130486¡V130499', ' 2020', ' doi: 10.1109/ACCESS.2020.3007076. \\\\n[5] C.Boletsis', '¡§TheNewEraofVirtualRealityLocomotion: A Systematic Literature Review of Techniques and a ProposedTypology', '¡¨ MTI', 'vol. 1', ' no. 4', 'p. 24', ' Sep.2017', ' doi:10.3390/mti1040024. \\\\n[6] M. P. Jacob Habgood', ' D. Moore', ' D. Wilson', ' and S. Alapont', '¡§Rapid', 'ContinuousMovementBetweenNodesas an Accessible Virtual Reality Locomotion Technique', '¡¨ in \\\\n2018 IEEE Conference on Virtual Reality and 3D User Interfaces (VR)', 'Reutlingen', ' Mar. 2018', 'pp.371¡V378. doi: 10.1109/VR.2018.8446130. \\\\n\\\\n[7] J.CliftonandS.Palmisano', '¡§Effectsofsteeringlocomotion and teleporting on cybersickness and presence in HMD-based virtual reality', '¡¨ Virtual Reality', ' vol. 24', ' no. 3', ' pp. 453¡V468', 'Sep.2020', 'doi:10.1007/s10055-019-00407-8. \\\\n[8] U.Cakiro.luandS.Goko.lu', '¡§Developmentoffiresafety behavioral skills via virtual reality', '¡¨ Computers & Education', ' vol. 133', ' pp. 56¡V68', ' May 2019', ' doi: 10.1016/j.compedu.2019.01.014. \\\\ncreating unusual environmental stimulation to motivate students to explore creative ideas', '¡¨ Interactive Learning Environments', ' vol. 23', ' no. 1', ' pp. 3¡V18', ' Jan. 2015', ' doi: 10.1080/10494820.2012.745426. \\\\n[10] L. Freina and M. Ott', ' (b) A Literature Review on Immersive Virtual Reality in Edu\",\n",
       " \"ation: State Of The Art and Perspectives. \\\\n[11] Z. Feng', ' V. A. Gonzalez', ' R. Amor', ' R. Lovreglio', ' and G. Cabrera-Guerrero', '¡§Immersivevirtualrealityseriousgames forevacuationtrainingandresearch:Asystematicliterature review', '¡¨ Computers & Education', ' vol. 127', ' pp. 252¡V266', ' Dec.2018', 'doi:10.1016/j.compedu.2018.09.002. \\\\n[12] R. Lovreglio', ' X. Duan', ' A. Rahouti', ' R. Phipps', ' and D. Nilsson', '¡§Comparingtheeffectivenessoffireextinguisher virtual reality and video training', '¡¨ Virtual Reality', ' May 2020', 'doi:10.1007/s10055-020-00447-5. \\\\n[13] M.Cha', 'S.Han', 'J.Lee', 'andB.Choi', '¡§Avirtualrealitybased firetrainingsimulatorintegratedwithfiredynamicsdata', '¡¨ Fire Safety Journal', ' vol. 50', ' pp. 12¡V24', ' May 2012', ' doi: 10.1016/j.firesaf.2012.01.004. \\\\n[14] Z. Xu', ' X. Z. Lu', ' H. Guan', ' C. Chen', ' and A. Z. Ren', ' ¡§A virtual reality based fire training simulator with smoke hazard assessment capacity', '¡¨ Advances in Engineering Software', ' vol. 68', ' pp. 1¡V8', ' Feb. 2014', ' doi: 10.1016/j.advengsoft.2013.10.004. \\\\n[15] S. L. Farra', ' E. T. Miller', ' and E. Hodgson', ' ¡§Virtual reality disastertraining:Translationtopractice', '¡¨Nurse Education in Practice', ' vol. 15', ' no. 1', ' pp. 53¡V57', ' Jan. 2015', ' doi: 10.1016/j.nepr.2013.08.017. \\\\n[16] M. Saghafian', ' K. Laumann', ' R. S. Akhtar', ' and M. R. Skogstad', ' ¡§The Evaluation of Virtual Reality Fire ExtinguisherTraining', '¡¨Front Psychol', 'vol.11', 'Nov.2020', ' doi:10.3389/fpsyg.2020.593466. \\\\n[17] ¡§Fire Safety Lab VR on Steam.¡¨ https://store.steampowered.com/app/1250170/Fire_Safety _Lab_VR/(accessedJan.31', '2021). \\\\n[18] F.-H. Tsai', ' ¡§An Investigation of Gender Differences in a Game-based Learning Environment with Different Game Modes', '¡¨ EURASIA J MATH SCI T', ' vol. 13', ' no. 7', ' Jun. 2017', 'doi:10.12973/eurasia.2017.00713a. \\\\n[19] H. Lukosch', ' S. Kurapati', ' D. Groen', ' and A. Verbraeck', ' ¡§GenderandCulturalDifferencesinGame-BasedLearning Experiences', '¡¨ Electronic Journal of e-Learning', ' vol. 15', ' no.4', 'pp.310¡V319', '2017. \\\\n\\\\n\\\\n']\"]"
      ]
     },
     "execution_count": 96,
     "metadata": {},
     "output_type": "execute_result"
    }
   ],
   "source": [
    "data"
   ]
  },
  {
   "cell_type": "code",
   "execution_count": 98,
   "id": "775265fa",
   "metadata": {},
   "outputs": [],
   "source": [
    "import gensim\n",
    "from gensim import corpora\n",
    "from pprint import pprint"
   ]
  },
  {
   "cell_type": "code",
   "execution_count": 99,
   "id": "d905021c",
   "metadata": {},
   "outputs": [],
   "source": [
    "# 創建詞袋\n",
    "texts = [[word for word in document.lower().split()] for document in data]\n",
    "dictionary = corpora.Dictionary(texts)\n",
    "corpus = [dictionary.doc2bow(text) for text in texts]"
   ]
  },
  {
   "cell_type": "code",
   "execution_count": 100,
   "id": "911dea5e",
   "metadata": {},
   "outputs": [],
   "source": [
    "# 訓練 LDA 模型\n",
    "lda_model = gensim.models.ldamodel.LdaModel(corpus=corpus, id2word=dictionary, \n",
    "                                            num_topics=3, random_state=100, update_every=1, \n",
    "                                            chunksize=100, passes=10, alpha='auto', per_word_topics=True)"
   ]
  },
  {
   "cell_type": "markdown",
   "id": "80344dca",
   "metadata": {},
   "source": [
    "## pip install pyLDAvis"
   ]
  },
  {
   "cell_type": "code",
   "execution_count": 101,
   "id": "9b194905",
   "metadata": {},
   "outputs": [
    {
     "name": "stderr",
     "output_type": "stream",
     "text": [
      "C:\\Users\\nick3\\anaconda3\\lib\\site-packages\\pyLDAvis\\_prepare.py:243: FutureWarning: In a future version of pandas all arguments of DataFrame.drop except for the argument 'labels' will be keyword-only.\n",
      "  default_term_info = default_term_info.sort_values(\n"
     ]
    },
    {
     "data": {
      "text/html": [
       "\n",
       "<link rel=\"stylesheet\" type=\"text/css\" href=\"https://cdn.jsdelivr.net/gh/bmabey/pyLDAvis@3.4.0/pyLDAvis/js/ldavis.v1.0.0.css\">\n",
       "\n",
       "\n",
       "<div id=\"ldavis_el258817203995628964193648717\" style=\"background-color:white;\"></div>\n",
       "<script type=\"text/javascript\">\n",
       "\n",
       "var ldavis_el258817203995628964193648717_data = {\"mdsDat\": {\"x\": [-0.09436324214229949, 0.10772068287847748, -0.013357440736177985], \"y\": [-0.03264985717800918, -0.02184397781813584, 0.054493834996145005], \"topics\": [1, 2, 3], \"cluster\": [1, 1, 1], \"Freq\": [57.833053912827694, 38.67793780153311, 3.4890082856391924]}, \"tinfo\": {\"Term\": [\"'\", \"the\", \"'\\u00a1\\u00a8\", \"system\", \"vol.\", \"paper\", \"doi:\", \"pp.\", \"a\", \"with\", \"r.\", \"no.\", \"stage\", \"is\", \"s.\", \"d.\", \"learning,\", \"includes\", \"two\", \"contact\", \"methodology\", \"operating\", \"4\", \"first\", \"tutorials,\", \"emergency\", \"play\", \"their\", \"simulated\", \"also\", \"this\", \"volunteers\", \"discusses\", \"using\", \"use\", \"how\", \"all\", \"technology\", \"while\", \"is\", \"are\", \"safe\", \"higherisbetter\", \"questions)\", \"high\", \"between\", \"persons)\", \"lowerisbetter\", \"allows\", \"approximately\", \"create\", \"each\", \"the\", \"for\", \"paper\", \"passage\", \"development\", \"motion\", \"group\", \"number\", \"score\", \"as\", \"that\", \"of\", \"a\", \"game-based\", \"training\", \"learning\", \"to\", \"fire\", \"game\", \"and\", \"safety\", \"knowledge\", \"an\", \"it\", \"vr\", \"in\", \"virtual\", \"'\", \"reality\", \"on\", \"our\", \"'\\u00a1\\u00a8\", \"vol.\", \"doi:\", \"pp.\", \"r.\", \"no.\", \"s.\", \"d.\", \"a.\", \"z.\", \"m.\", \"reality',\", \"may\", \"l.\", \"2015',\", \"1',\", \"jan.\", \"h.\", \"x.\", \"e.\", \"15',\", \"lovreglio',\", \"50',\", \"2020',\", \"computers\", \"video\", \"\\u00a1\\u00a7fire\", \"'2021).\", \"education',\", \"&\", \"'\", \"virtual\", \"and\", \"in\", \"reality\", \"on\", \"to\", \"a\", \"of\", \"fire\", \"the\", \"with\", \"safety\", \"learning\", \"training\", \"stage\", \"objectives\", \"aid.\", \"numbers,\", \"available\", \"explicitly\", \"assessment.\", \"development.\", \"offers\", \"features\", \"proposes\", \"fire,\", \"extinguishers,\", \"framework\", \"presents\", \"extinguisher.\", \"procedures,\", \"educating\", \"except\", \"market.\", \"situation,\", \"comprises\", \"real\", \"combines\", \"combined\", \"defines\", \"systems\", \"practicing\", \"contents,\", \"tutorial.\", \"system\", \"the\", \"a\", \"paper\", \"and\", \"with\"], \"Freq\": [74.0, 41.0, 9.0, 3.0, 6.0, 3.0, 6.0, 6.0, 19.0, 5.0, 4.0, 4.0, 1.0, 11.0, 3.0, 3.0, 1.0, 1.0, 2.0, 1.0, 1.0, 1.0, 1.0, 1.0, 1.0, 1.0, 1.0, 1.0, 1.0, 1.0, 4.078223240587502, 4.076160302498, 3.315954753646979, 3.3157562662689846, 3.3153116101875555, 3.3144757454639113, 3.3137183885970383, 3.3123797631070104, 3.313526554427245, 10.750831309541, 9.43689631869396, 2.551398671953368, 2.551051374485279, 2.550592746666628, 2.550035651366603, 2.54996468381246, 2.5491904721514778, 2.549575027585492, 2.5477669073700846, 2.5486897073475543, 2.5470399334873295, 3.048952415825623, 36.4042972164407, 7.141688521235429, 3.171171406929567, 1.7863254142089375, 1.7860569572580298, 1.7858863024676759, 1.7853582595101283, 1.7858105667809885, 5.611746481011944, 5.603597188060227, 5.490189262350386, 17.568562704150978, 15.153213934283263, 7.030480146156817, 8.619500013921316, 8.416173535828639, 11.73253790532719, 9.178218696747217, 6.290691297312003, 25.150269577152233, 7.602327382952016, 5.885677691627359, 4.085506729378672, 4.080334081776052, 4.077858644778091, 8.616921230422635, 7.137457967914062, 14.798259954196872, 5.605082627677889, 4.081951254916093, 3.320297302639729, 9.094626228783985, 6.368341050184094, 5.685822886481487, 5.684810757030489, 4.323201490453934, 4.319041436696372, 3.638414934631812, 3.6376240972589042, 2.9578943323955076, 2.9578878063556715, 2.9565214909244584, 2.9559973312703214, 2.274195845397027, 2.274040110355475, 2.2737740259130526, 2.273382018565604, 2.2725920711072187, 1.5927707933670252, 1.5926917392935518, 1.5926828401483202, 1.5926113503482937, 1.5924842408905702, 1.5923331037407213, 1.5920002757090623, 1.5918871082455348, 1.5918589276189683, 1.5918153218073339, 1.591782098331803, 1.5917163929761768, 1.5914087791893405, 59.671289015290995, 7.757351081566681, 13.942487801974808, 6.397504735660492, 5.022777832374499, 2.965285665786636, 4.347574469414029, 3.6844789868173957, 3.6879597391556187, 2.9807286491450724, 4.428497363386011, 2.2881734361740054, 2.2994843980823583, 2.295189670593625, 2.295021031791488, 0.5326748703362956, 0.2130052508425134, 0.21293496900057005, 0.21281526375787685, 0.21270588739048926, 0.21269946529185366, 0.2126902201456928, 0.21264818215837394, 0.2125100133821034, 0.21244743805852276, 0.21243637331774848, 0.21237191150269363, 0.21235770260946238, 0.21235251141306524, 0.21230968404278908, 0.2121960530350554, 0.2121247409814559, 0.21202482383018367, 0.21201755883110215, 0.2119896762195259, 0.21196556659089807, 0.21192326101613607, 0.21180703441020382, 0.2117625212390358, 0.2117488207619465, 0.2117302501933919, 0.21164419407167484, 0.21139053455494072, 0.21135074430214432, 0.21102876971117396, 0.40477072162624494, 0.503807965109174, 0.30365831076294264, 0.24724643579534972, 0.2970399634965345, 0.24801331464867352], \"Total\": [74.0, 41.0, 9.0, 3.0, 6.0, 3.0, 6.0, 6.0, 19.0, 5.0, 4.0, 4.0, 1.0, 11.0, 3.0, 3.0, 1.0, 1.0, 2.0, 1.0, 1.0, 1.0, 1.0, 1.0, 1.0, 1.0, 1.0, 1.0, 1.0, 1.0, 4.371071978554208, 4.371959926025084, 3.6051561558126117, 3.6058354282937453, 3.605574755615015, 3.605171329194065, 3.605608799710869, 3.6042815306690312, 3.605554293974144, 11.785078408769023, 10.423693032703833, 2.8385939051689086, 2.8386576513229502, 2.838686016859075, 2.8383727862820383, 2.838820919941705, 2.837987606405508, 2.838527323496642, 2.836779626259507, 2.8384489370418433, 2.8374738814385765, 3.397484873712843, 41.336602544935886, 8.122790788276962, 3.65636127831713, 2.071046282568003, 2.0712389499497332, 2.071315268830974, 2.070707647598537, 2.0714923405142134, 6.588911886299563, 6.586695943849349, 6.491375596598117, 21.373068869750888, 19.1413512318636, 8.728479375631085, 10.981585402860363, 10.821434444882232, 16.137422233029906, 12.26961863581415, 7.970937083796795, 39.38979734262358, 10.020618518610952, 7.655198142912154, 5.055658082195962, 5.05465130211733, 5.05375326308851, 15.08093095174984, 14.95090141835153, 74.52730563859944, 10.68392385923761, 7.10271713981435, 4.972550825128861, 9.416188421909812, 6.684279039969477, 6.001088489431265, 6.000944418902713, 4.635441089156583, 4.634983452271118, 3.952379048305839, 3.952534622729766, 3.269472060567351, 3.269528121081334, 3.2694668214374354, 3.2693272624817937, 2.5864585008199925, 2.5863397200093035, 2.5865447689413164, 2.5865034873388035, 2.58652683920736, 1.9035687330187057, 1.9035426841385803, 1.9035523596520076, 1.9036199470161617, 1.9036012781468636, 1.9035233122552728, 1.9035462231188027, 1.9035186621236877, 1.9035291447083122, 1.9035842473815685, 1.9036091687894565, 1.903541998001272, 1.9035583695466762, 74.52730563859944, 14.95090141835153, 39.38979734262358, 15.08093095174984, 10.68392385923761, 7.10271713981435, 16.137422233029906, 19.1413512318636, 21.373068869750888, 12.26961863581415, 41.336602544935886, 5.702174421469292, 10.020618518610952, 10.821434444882232, 10.981585402860363, 1.0588356620317447, 0.7139207925415351, 0.7142043642191228, 0.7147123676356548, 0.715019602583949, 0.7150445789825164, 0.7150339220537842, 0.7152402823010355, 0.7157553530204794, 0.7159764803501864, 0.7160397983457666, 0.7162899475792104, 0.716298534166705, 0.7163527431538125, 0.7164629784780798, 0.7169153886820574, 0.717194177771505, 0.717587312521929, 0.7175969426750339, 0.7176437019499402, 0.7178313532986557, 0.7179351096895517, 0.7183736521563762, 0.7186076208821913, 0.7185856293737347, 0.7186475808342622, 0.7189654274869028, 0.7198980952284246, 0.720111829966845, 0.7212128459665041, 3.8375951653460025, 41.336602544935886, 19.1413512318636, 3.65636127831713, 39.38979734262358, 5.702174421469292], \"Category\": [\"Default\", \"Default\", \"Default\", \"Default\", \"Default\", \"Default\", \"Default\", \"Default\", \"Default\", \"Default\", \"Default\", \"Default\", \"Default\", \"Default\", \"Default\", \"Default\", \"Default\", \"Default\", \"Default\", \"Default\", \"Default\", \"Default\", \"Default\", \"Default\", \"Default\", \"Default\", \"Default\", \"Default\", \"Default\", \"Default\", \"Topic1\", \"Topic1\", \"Topic1\", \"Topic1\", \"Topic1\", \"Topic1\", \"Topic1\", \"Topic1\", \"Topic1\", \"Topic1\", \"Topic1\", \"Topic1\", \"Topic1\", \"Topic1\", \"Topic1\", \"Topic1\", \"Topic1\", \"Topic1\", \"Topic1\", \"Topic1\", \"Topic1\", \"Topic1\", \"Topic1\", \"Topic1\", \"Topic1\", \"Topic1\", \"Topic1\", \"Topic1\", \"Topic1\", \"Topic1\", \"Topic1\", \"Topic1\", \"Topic1\", \"Topic1\", \"Topic1\", \"Topic1\", \"Topic1\", \"Topic1\", \"Topic1\", \"Topic1\", \"Topic1\", \"Topic1\", \"Topic1\", \"Topic1\", \"Topic1\", \"Topic1\", \"Topic1\", \"Topic1\", \"Topic1\", \"Topic1\", \"Topic1\", \"Topic1\", \"Topic1\", \"Topic2\", \"Topic2\", \"Topic2\", \"Topic2\", \"Topic2\", \"Topic2\", \"Topic2\", \"Topic2\", \"Topic2\", \"Topic2\", \"Topic2\", \"Topic2\", \"Topic2\", \"Topic2\", \"Topic2\", \"Topic2\", \"Topic2\", \"Topic2\", \"Topic2\", \"Topic2\", \"Topic2\", \"Topic2\", \"Topic2\", \"Topic2\", \"Topic2\", \"Topic2\", \"Topic2\", \"Topic2\", \"Topic2\", \"Topic2\", \"Topic2\", \"Topic2\", \"Topic2\", \"Topic2\", \"Topic2\", \"Topic2\", \"Topic2\", \"Topic2\", \"Topic2\", \"Topic2\", \"Topic2\", \"Topic2\", \"Topic2\", \"Topic2\", \"Topic2\", \"Topic3\", \"Topic3\", \"Topic3\", \"Topic3\", \"Topic3\", \"Topic3\", \"Topic3\", \"Topic3\", \"Topic3\", \"Topic3\", \"Topic3\", \"Topic3\", \"Topic3\", \"Topic3\", \"Topic3\", \"Topic3\", \"Topic3\", \"Topic3\", \"Topic3\", \"Topic3\", \"Topic3\", \"Topic3\", \"Topic3\", \"Topic3\", \"Topic3\", \"Topic3\", \"Topic3\", \"Topic3\", \"Topic3\", \"Topic3\", \"Topic3\", \"Topic3\", \"Topic3\", \"Topic3\", \"Topic3\", \"Topic3\"], \"logprob\": [30.0, 29.0, 28.0, 27.0, 26.0, 25.0, 24.0, 23.0, 22.0, 21.0, 20.0, 19.0, 18.0, 17.0, 16.0, 15.0, 14.0, 13.0, 12.0, 11.0, 10.0, 9.0, 8.0, 7.0, 6.0, 5.0, 4.0, 3.0, 2.0, 1.0, -5.4534, -5.4539, -5.6604, -5.6604, -5.6605, -5.6608, -5.661, -5.6614, -5.6611, -4.4841, -4.6145, -5.9225, -5.9226, -5.9228, -5.923, -5.923, -5.9233, -5.9232, -5.9239, -5.9235, -5.9242, -5.7443, -3.2644, -4.8932, -5.705, -6.2789, -6.2791, -6.2792, -6.2795, -6.2792, -5.1342, -5.1357, -5.1561, -3.993, -4.1409, -4.9088, -4.7051, -4.7289, -4.3967, -4.6423, -5.02, -3.6342, -4.8306, -5.0866, -5.4517, -5.4529, -5.4535, -4.7054, -4.8937, -4.1646, -5.1354, -5.4525, -5.659, -4.2491, -4.6055, -4.7188, -4.719, -4.9928, -4.9938, -5.1653, -5.1655, -5.3723, -5.3723, -5.3728, -5.373, -5.6352, -5.6353, -5.6354, -5.6355, -5.6359, -5.9913, -5.9914, -5.9914, -5.9914, -5.9915, -5.9916, -5.9918, -5.9919, -5.9919, -5.9919, -5.992, -5.992, -5.9922, -2.368, -4.4082, -3.8219, -4.6009, -4.8428, -5.3698, -4.9872, -5.1527, -5.1517, -5.3646, -4.9687, -5.6291, -5.6241, -5.626, -5.6261, -4.681, -5.5976, -5.5979, -5.5985, -5.599, -5.599, -5.5991, -5.5993, -5.5999, -5.6002, -5.6003, -5.6006, -5.6006, -5.6007, -5.6009, -5.6014, -5.6017, -5.6022, -5.6022, -5.6024, -5.6025, -5.6027, -5.6032, -5.6034, -5.6035, -5.6036, -5.604, -5.6052, -5.6054, -5.6069, -4.9556, -4.7367, -5.243, -5.4485, -5.265, -5.4454], \"loglift\": [30.0, 29.0, 28.0, 27.0, 26.0, 25.0, 24.0, 23.0, 22.0, 21.0, 20.0, 19.0, 18.0, 17.0, 16.0, 15.0, 14.0, 13.0, 12.0, 11.0, 10.0, 9.0, 8.0, 7.0, 6.0, 5.0, 4.0, 3.0, 2.0, 1.0, 0.4783, 0.4776, 0.464, 0.4637, 0.4637, 0.4635, 0.4632, 0.4632, 0.4631, 0.4558, 0.4482, 0.4409, 0.4408, 0.4406, 0.4405, 0.4403, 0.4403, 0.4403, 0.4402, 0.4399, 0.4396, 0.4394, 0.4205, 0.4189, 0.4052, 0.3997, 0.3995, 0.3993, 0.3993, 0.3992, 0.3871, 0.386, 0.3801, 0.3516, 0.314, 0.3313, 0.3054, 0.2962, 0.2288, 0.2573, 0.3109, 0.099, 0.2714, 0.2847, 0.3345, 0.3335, 0.3331, -0.0121, -0.1918, -1.069, -0.0975, -0.0063, 0.1437, 0.9152, 0.9015, 0.8959, 0.8958, 0.8802, 0.8793, 0.8671, 0.8669, 0.8497, 0.8497, 0.8493, 0.8492, 0.8212, 0.8212, 0.821, 0.8209, 0.8205, 0.7716, 0.7716, 0.7716, 0.7715, 0.7714, 0.7714, 0.7712, 0.7711, 0.7711, 0.771, 0.771, 0.771, 0.7708, 0.7276, 0.2938, -0.0887, 0.0924, 0.1951, 0.0764, -0.3616, -0.6978, -0.8072, -0.4651, -1.2838, 0.0368, -0.5221, -0.6008, -0.6156, 2.6685, 2.1461, 2.1454, 2.1441, 2.1432, 2.1431, 2.1431, 2.1426, 2.1412, 2.1406, 2.1405, 2.1398, 2.1397, 2.1396, 2.1393, 2.1381, 2.1374, 2.1364, 2.1363, 2.1361, 2.1357, 2.1354, 2.1342, 2.1337, 2.1337, 2.1335, 2.1326, 2.1302, 2.1297, 2.1266, 1.1063, -1.0518, -0.7882, 0.6617, -1.5318, 0.2204]}, \"token.table\": {\"Topic\": [2, 1, 2, 2, 2, 2, 2, 2, 2, 1, 2, 1, 2, 2, 1, 1, 1, 1, 2, 1, 2, 1, 1, 2, 1, 2, 1, 2, 1, 1, 2, 1, 1, 2, 2, 1, 2, 1, 1, 2, 1, 1, 2, 1, 2, 1, 2, 1, 2, 1, 1, 1, 1, 2, 1, 1, 2, 1, 2, 2, 1, 2, 2, 1, 2, 1, 2, 1, 2, 2, 1, 1, 2, 1, 1, 2, 1, 2, 1, 1, 2, 1, 1, 1, 2, 2, 1, 2, 1, 2, 2, 2, 1, 1, 2, 1, 2, 1, 3, 1, 1, 1, 2, 1, 2, 3, 2, 1, 1, 2, 1, 2, 1, 1, 1, 1, 2, 1, 2, 2, 1, 1, 2, 1, 1, 2, 2, 2, 2], \"Freq\": [1.050663868256528, 0.2012685132176729, 0.8050740528706916, 1.0506358305007746, 0.9558007546937554, 0.7732446562667332, 1.0506298818390245, 0.7732323151779849, 1.0506705724871581, 0.6104929137024759, 1.050683218389599, 0.7836437364479416, 0.20897166305278442, 0.9175793352641192, 0.8320370197234287, 1.0575372060027486, 0.6057051888437937, 0.7911927458240156, 0.1977981864560039, 0.6346821178728832, 0.3554219860088146, 1.056915261306945, 0.863417597943736, 0.0959352886604151, 0.9109271250941521, 0.151821187515692, 1.0567767691600654, 1.0506857851178992, 0.6123249793595681, 1.057278454481852, 1.0120088454120746, 0.9656056342743737, 0.8321414857892035, 0.9998186180001876, 1.0506671854120284, 0.8830061388092472, 1.0506729045642331, 0.6098191319930591, 0.7335191310453315, 0.2445063770151105, 0.6102723397768619, 0.8617727801265785, 0.12311039716093979, 0.7527345827627611, 0.250911527587587, 0.8019724511858501, 0.22913498605310004, 0.9658533894533403, 1.0506581481974504, 1.056943617307463, 1.0568375508761532, 0.8321379834868068, 0.5967801343826012, 0.39785342292173415, 0.6141524820002506, 0.9333836923660294, 0.0848530629423663, 0.7913503347549316, 0.1978375836887329, 0.7732376752034396, 0.7837811494866819, 0.26126038316222727, 0.7732936182075902, 0.7392735261436094, 0.18481838153590235, 0.6146394343007019, 1.0506401855051177, 1.056886074397356, 0.9175808056314935, 0.7732581053846154, 0.6111290089725924, 0.9655700559426554, 0.8630020023135185, 0.9654875187728348, 0.842181350263426, 0.18715141116965023, 0.5631647609304278, 0.42237357069782083, 0.6104253759397648, 0.6033120837778981, 0.4022080558519321, 0.8204878488869607, 0.9656954636089016, 1.057087068748581, 0.7125405060723186, 0.9998426216214005, 1.0568269904395464, 0.86291680188903, 0.5615914226880453, 0.4679928522400377, 0.9176199747353089, 1.0120486803295279, 1.0568612842214522, 0.7983539124996999, 0.19958847812492497, 0.9106207676681642, 0.15177012794469402, 0.6072768975246425, 0.9444336225709965, 0.7817395714614197, 0.8323434155941576, 0.7702527647021857, 0.15405055294043715, 0.8708988592099554, 0.09676653991221726, 0.024191634978054315, 0.7112572145942917, 0.9151073282767251, 0.7436131884458304, 0.2478710628152768, 0.8195537957256863, 0.18212306571681916, 0.6099194740364067, 0.7885575520061088, 0.8320448758767394, 0.8319847257753463, 1.0506799990742828, 0.468199194425015, 0.5350847936285885, 0.8976285945159164, 0.9149214694739292, 0.7914909556853736, 0.1978727389213434, 0.8320495977591604, 0.5261150884309469, 0.35074339228729795, 1.0506725258462328, 0.9175636021163223, 1.050649585250064], \"Term\": [\"&\", \"'\", \"'\", \"'2021).\", \"'\\u00a1\\u00a8\", \"1',\", \"15',\", \"2015',\", \"2020',\", \"4\", \"50',\", \"a\", \"a\", \"a.\", \"all\", \"allows\", \"also\", \"an\", \"an\", \"and\", \"and\", \"approximately\", \"are\", \"are\", \"as\", \"as\", \"between\", \"computers\", \"contact\", \"create\", \"d.\", \"development\", \"discusses\", \"doi:\", \"e.\", \"each\", \"education',\", \"emergency\", \"fire\", \"fire\", \"first\", \"for\", \"for\", \"game\", \"game\", \"game-based\", \"game-based\", \"group\", \"h.\", \"high\", \"higherisbetter\", \"how\", \"in\", \"in\", \"includes\", \"is\", \"is\", \"it\", \"it\", \"jan.\", \"knowledge\", \"knowledge\", \"l.\", \"learning\", \"learning\", \"learning,\", \"lovreglio',\", \"lowerisbetter\", \"m.\", \"may\", \"methodology\", \"motion\", \"no.\", \"number\", \"of\", \"of\", \"on\", \"on\", \"operating\", \"our\", \"our\", \"paper\", \"passage\", \"persons)\", \"play\", \"pp.\", \"questions)\", \"r.\", \"reality\", \"reality\", \"reality',\", \"s.\", \"safe\", \"safety\", \"safety\", \"score\", \"score\", \"simulated\", \"stage\", \"system\", \"technology\", \"that\", \"that\", \"the\", \"the\", \"the\", \"their\", \"this\", \"to\", \"to\", \"training\", \"training\", \"tutorials,\", \"two\", \"use\", \"using\", \"video\", \"virtual\", \"virtual\", \"vol.\", \"volunteers\", \"vr\", \"vr\", \"while\", \"with\", \"with\", \"x.\", \"z.\", \"\\u00a1\\u00a7fire\"]}, \"R\": 30, \"lambda.step\": 0.01, \"plot.opts\": {\"xlab\": \"PC1\", \"ylab\": \"PC2\"}, \"topic.order\": [2, 3, 1]};\n",
       "\n",
       "function LDAvis_load_lib(url, callback){\n",
       "  var s = document.createElement('script');\n",
       "  s.src = url;\n",
       "  s.async = true;\n",
       "  s.onreadystatechange = s.onload = callback;\n",
       "  s.onerror = function(){console.warn(\"failed to load library \" + url);};\n",
       "  document.getElementsByTagName(\"head\")[0].appendChild(s);\n",
       "}\n",
       "\n",
       "if(typeof(LDAvis) !== \"undefined\"){\n",
       "   // already loaded: just create the visualization\n",
       "   !function(LDAvis){\n",
       "       new LDAvis(\"#\" + \"ldavis_el258817203995628964193648717\", ldavis_el258817203995628964193648717_data);\n",
       "   }(LDAvis);\n",
       "}else if(typeof define === \"function\" && define.amd){\n",
       "   // require.js is available: use it to load d3/LDAvis\n",
       "   require.config({paths: {d3: \"https://d3js.org/d3.v5\"}});\n",
       "   require([\"d3\"], function(d3){\n",
       "      window.d3 = d3;\n",
       "      LDAvis_load_lib(\"https://cdn.jsdelivr.net/gh/bmabey/pyLDAvis@3.4.0/pyLDAvis/js/ldavis.v3.0.0.js\", function(){\n",
       "        new LDAvis(\"#\" + \"ldavis_el258817203995628964193648717\", ldavis_el258817203995628964193648717_data);\n",
       "      });\n",
       "    });\n",
       "}else{\n",
       "    // require.js not available: dynamically load d3 & LDAvis\n",
       "    LDAvis_load_lib(\"https://d3js.org/d3.v5.js\", function(){\n",
       "         LDAvis_load_lib(\"https://cdn.jsdelivr.net/gh/bmabey/pyLDAvis@3.4.0/pyLDAvis/js/ldavis.v3.0.0.js\", function(){\n",
       "                 new LDAvis(\"#\" + \"ldavis_el258817203995628964193648717\", ldavis_el258817203995628964193648717_data);\n",
       "            })\n",
       "         });\n",
       "}\n",
       "</script>"
      ],
      "text/plain": [
       "<IPython.core.display.HTML object>"
      ]
     },
     "execution_count": 101,
     "metadata": {},
     "output_type": "execute_result"
    }
   ],
   "source": [
    "# 輸出主題模型分析結果\n",
    "import pyLDAvis.gensim\n",
    "pyLDAvis.enable_notebook()\n",
    "vis = pyLDAvis.gensim.prepare(lda_model, corpus, dictionary)\n",
    "pyLDAvis.display(vis)"
   ]
  },
  {
   "cell_type": "code",
   "execution_count": null,
   "id": "ff7e7948",
   "metadata": {},
   "outputs": [],
   "source": []
  }
 ],
 "metadata": {
  "kernelspec": {
   "display_name": "Python 3 (ipykernel)",
   "language": "python",
   "name": "python3"
  },
  "language_info": {
   "codemirror_mode": {
    "name": "ipython",
    "version": 3
   },
   "file_extension": ".py",
   "mimetype": "text/x-python",
   "name": "python",
   "nbconvert_exporter": "python",
   "pygments_lexer": "ipython3",
   "version": "3.9.13"
  }
 },
 "nbformat": 4,
 "nbformat_minor": 5
}
