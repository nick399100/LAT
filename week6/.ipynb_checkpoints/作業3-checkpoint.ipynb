{
 "cells": [
  {
   "cell_type": "code",
   "execution_count": 27,
   "id": "98db756c",
   "metadata": {},
   "outputs": [],
   "source": [
    "import openai\n",
    "import pandas as pd"
   ]
  },
  {
   "cell_type": "code",
   "execution_count": 28,
   "id": "3adce0f1",
   "metadata": {},
   "outputs": [],
   "source": [
    "keyfile = open(\"key.txt\", \"r\")\n",
    "key = keyfile.readline()\n",
    "openai.api_key = key"
   ]
  },
  {
   "cell_type": "code",
   "execution_count": 29,
   "id": "efcc98b8",
   "metadata": {},
   "outputs": [],
   "source": [
    "# 建立一個空的list，用於儲存所有txt檔案的data\n",
    "all_data = []\n",
    "\n",
    "# 逐一讀取每個txt檔案\n",
    "for i in range(1, 3):\n",
    "    filename = f\"0{i}.txt\"  # 假設檔案名稱為 01.txt、02.txt、03.txt\n",
    "    with open(filename, 'r', encoding='cp1252') as fh:\n",
    "        tmp = fh.read()\n",
    "        itemlist = tmp.split(',')\n",
    "    itemlist_str = str(itemlist)\n",
    "    # 將每個txt檔案的data加入all_data中\n",
    "    all_data.append([itemlist_str[0:3200], itemlist_str[3201:6400],\n",
    "                     itemlist_str[6401:9600], itemlist_str[9601:12800], \n",
    "                     itemlist_str[12801:16000]])\n",
    "\n",
    "# 將所有txt檔案的data疊加在一起\n",
    "data = [d for sublist in all_data for d in sublist]\n"
   ]
  },
  {
   "cell_type": "code",
   "execution_count": 37,
   "id": "0c6fcb13",
   "metadata": {},
   "outputs": [],
   "source": [
    "data = [itemlist_str[0:3200], itemlist_str[3201:6400],\n",
    "                     itemlist_str[6401:9600], itemlist_str[9601:12800], \n",
    "                     itemlist_str[12801:16000]]"
   ]
  },
  {
   "cell_type": "code",
   "execution_count": 32,
   "id": "bb7c5fca",
   "metadata": {},
   "outputs": [],
   "source": [
    "def chatgptfn(sub_list):\n",
    "    result = ''\n",
    "    response = openai.ChatCompletion.create(\n",
    "        model=\"gpt-3.5-turbo\",\n",
    "        messages=[\n",
    "            {\"role\": \"system\", \"content\": \"You are an assistant\"},\n",
    "            {\"role\": \"user\", \"content\": f\"{sub_list} :give me a summary\"}\n",
    "        ]\n",
    "    )\n",
    "    for choice in response.choices:\n",
    "        result += choice.message.content\n",
    "    return result"
   ]
  },
  {
   "cell_type": "code",
   "execution_count": 38,
   "id": "56642f40",
   "metadata": {},
   "outputs": [
    {
     "data": {
      "text/plain": [
       "\"['Computers \\\\nin \\\\nHuman \\\\nBehavior \\\\n80 \\\\n(2018) \\\\n158e167 \\\\n\\\\nImprint logo\\\\nContents lists available at ScienceDirect \\\\n\\\\nComputers in Human Behavior \\\\njournal homepage: www.elsevier.com/locate/comphumbeh \\\\n\\\\nJournal logo\\\\n\\\\nFull length article \\\\nA meta-analysis with examination of moderators of student cognition', ' affect', ' and learning outcomes while using serious educational games', ' serious games', ' and simulations \\\\nRichard L. Lamb a', ' * \\\\n', ' Leonard Annetta b', ' Jonah Firestone c', ' Elisabeth Etopio a \\\\n\\\\na University at Buffalo', ' United States b East Carolina University', ' United States c Washington State University Tri-Cities', ' United States \\\\narticle info abstract \\\\nArticle history: \\\\nReceived 12 September 2017 Received in revised form 4 October 2017 Accepted 23 October 2017 Available online 28 October 2017 \\\\nKeywords: \\\\nSerious educational games Meta-analysis Video games Cognition \\\\nEducational games and simulations provide teachers with powerful tools for teaching students in the sciences. Within the broad category of educational gaming', ' there are several types of games to include Serious Educational Games (SEG)', ' Educational Simulations (ES)', ' and Serious Games (SG). The purpose of this meta-analysis is to characterize and compare outcomes related to serious educational games', ' serious games', ' and educational simulations as they are presented in the educational literature. Speci.cally the authors intend to .ll gaps left by previous studies', ' include major .nding', ' and assess the current state of the .eld related to the use of these innovative technologies. The results of this study are in line with previous studies suggesting higher cognitive gains and increases in positive affective toward learning from subjects using SEGs', ' SGs', ' and ES. Effects were calculated from 46 empirical experimental studies. The examined studies suggest that ES', ' SGs', ' and SEGs do not differ in a statistically signi.cant way when compared to traditional instruction but do differ from each other. More to this point', ' effect size outcomes are suggestive of a cumulative medium effect for cognition (d..67) and affect (d..51) with a small effect for behavior (d..04). \\\\nc 2017 Elsevier Ltd. All rights reserved. \\\\n\\\\nInformation and computer technologies are considered some of the most powerful teaching tools supporting student learning in the classroom (Ertmer \\\\n& Ottenbreit-Leftwich', ' \\\\n2010). Within the broad category of educational gaming are several technology types including Serious Educational Games (SEG)', ' educational simula-tions (ES)', ' and Serious Games (SG). In the educational setting', ' as-pects of the relationship between learning and technology are often assumed and the factors that mediate the successes and short-comings of various technologies in education are often taken for granted and left unexamined (Pearce', ' \\\\nWeller', ' \\\\nScanlon', ' \\\\n& Kinsley', ' \\\\n2012). Speci.cally', ' policy makers often assume that all technol-ogy formats such as software', ' computers', ' tablets', ' and other tech-nologies are equally effective at reaching students in the classroom. Many of these simulations and \""
      ]
     },
     "execution_count": 38,
     "metadata": {},
     "output_type": "execute_result"
    }
   ],
   "source": [
    "data[0]"
   ]
  },
  {
   "cell_type": "code",
   "execution_count": 39,
   "id": "8cc8e09c",
   "metadata": {
    "scrolled": true
   },
   "outputs": [],
   "source": [
    "data[0] = chatgptfn(data[0])"
   ]
  },
  {
   "cell_type": "code",
   "execution_count": 40,
   "id": "86e96e47",
   "metadata": {},
   "outputs": [
    {
     "data": {
      "text/plain": [
       "'This article discusses the use of serious educational games, serious games, and educational simulations in teaching and learning, and presents a meta-analysis of 46 empirical experimental studies. The study found that these technologies are effective in promoting cognitive gains and increases in positive affect toward learning, but do not differ significantly from traditional instruction. The results can help inform educators and policymakers about the effectiveness of these innovative technologies in the classroom.'"
      ]
     },
     "execution_count": 40,
     "metadata": {},
     "output_type": "execute_result"
    }
   ],
   "source": [
    "data[0]"
   ]
  },
  {
   "cell_type": "code",
   "execution_count": 9,
   "id": "04a5e3f4",
   "metadata": {},
   "outputs": [],
   "source": [
    "data[1] = chatgptfn(data[1])"
   ]
  },
  {
   "cell_type": "code",
   "execution_count": 8,
   "id": "5b2c6471",
   "metadata": {},
   "outputs": [],
   "source": [
    "data[2] = chatgptfn(data[2])\n",
    "data[3] = chatgptfn(data[3])"
   ]
  },
  {
   "cell_type": "code",
   "execution_count": null,
   "id": "e3c0e641",
   "metadata": {},
   "outputs": [],
   "source": [
    "for i in range(0,5):\n",
    "    data[i] = chatgptfn(data[i])"
   ]
  },
  {
   "cell_type": "code",
   "execution_count": null,
   "id": "752c9f77",
   "metadata": {},
   "outputs": [],
   "source": [
    "data"
   ]
  },
  {
   "cell_type": "code",
   "execution_count": null,
   "id": "775265fa",
   "metadata": {},
   "outputs": [],
   "source": [
    "import gensim\n",
    "from gensim import corpora\n",
    "from pprint import pprint"
   ]
  },
  {
   "cell_type": "code",
   "execution_count": null,
   "id": "d905021c",
   "metadata": {},
   "outputs": [],
   "source": [
    "# 創建詞袋\n",
    "texts = [[word for word in document.lower().split()] for document in data]\n",
    "dictionary = corpora.Dictionary(texts)\n",
    "corpus = [dictionary.doc2bow(text) for text in texts]"
   ]
  },
  {
   "cell_type": "code",
   "execution_count": null,
   "id": "911dea5e",
   "metadata": {},
   "outputs": [],
   "source": [
    "# 訓練 LDA 模型\n",
    "lda_model = gensim.models.ldamodel.LdaModel(corpus=corpus, id2word=dictionary, \n",
    "                                            num_topics=2, random_state=100, update_every=1, \n",
    "                                            chunksize=100, passes=10, alpha='auto', per_word_topics=True)"
   ]
  },
  {
   "cell_type": "markdown",
   "id": "80344dca",
   "metadata": {},
   "source": [
    "## pip install pyLDAvis"
   ]
  },
  {
   "cell_type": "code",
   "execution_count": null,
   "id": "9b194905",
   "metadata": {},
   "outputs": [],
   "source": [
    "# 輸出主題模型分析結果\n",
    "import pyLDAvis.gensim\n",
    "pyLDAvis.enable_notebook()\n",
    "vis = pyLDAvis.gensim.prepare(lda_model, corpus, dictionary)\n",
    "pyLDAvis.display(vis)"
   ]
  },
  {
   "cell_type": "code",
   "execution_count": null,
   "id": "ff7e7948",
   "metadata": {},
   "outputs": [],
   "source": []
  }
 ],
 "metadata": {
  "kernelspec": {
   "display_name": "Python 3 (ipykernel)",
   "language": "python",
   "name": "python3"
  },
  "language_info": {
   "codemirror_mode": {
    "name": "ipython",
    "version": 3
   },
   "file_extension": ".py",
   "mimetype": "text/x-python",
   "name": "python",
   "nbconvert_exporter": "python",
   "pygments_lexer": "ipython3",
   "version": "3.9.13"
  }
 },
 "nbformat": 4,
 "nbformat_minor": 5
}
